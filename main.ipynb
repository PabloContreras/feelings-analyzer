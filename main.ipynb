{
  "nbformat": 4,
  "nbformat_minor": 0,
  "metadata": {
    "colab": {
      "name": "main.ipynb",
      "version": "0.3.2",
      "provenance": [],
      "include_colab_link": true
    },
    "kernelspec": {
      "name": "python3",
      "display_name": "Python 3"
    }
  },
  "cells": [
    {
      "cell_type": "markdown",
      "metadata": {
        "id": "view-in-github",
        "colab_type": "text"
      },
      "source": [
        "<a href=\"https://colab.research.google.com/github/PabloContreras/feelings-analyzer/blob/master/main.ipynb\" target=\"_parent\"><img src=\"https://colab.research.google.com/assets/colab-badge.svg\" alt=\"Open In Colab\"/></a>"
      ]
    },
    {
      "metadata": {
        "id": "as70FERFOUWd",
        "colab_type": "code",
        "colab": {}
      },
      "cell_type": "code",
      "source": [
        "!apt-get install openjdk-8-jdk-headless -qq > /dev/null\n",
        "!wget -q http://apache.osuosl.org/spark/spark-2.3.2/spark-2.3.2-bin-hadoop2.7.tgz\n",
        "!tar xf spark-2.3.2-bin-hadoop2.7.tgz\n",
        "!pip install -q findspark"
      ],
      "execution_count": 0,
      "outputs": []
    },
    {
      "metadata": {
        "id": "uyS3KvdKOnNX",
        "colab_type": "code",
        "colab": {}
      },
      "cell_type": "code",
      "source": [
        "import os\n",
        "os.environ[\"JAVA_HOME\"] = \"/usr/lib/jvm/java-8-openjdk-amd64\"\n",
        "os.environ[\"SPARK_HOME\"] = \"/content/spark-2.3.2-bin-hadoop2.7\""
      ],
      "execution_count": 0,
      "outputs": []
    },
    {
      "metadata": {
        "id": "aen8OZs6Oqe0",
        "colab_type": "code",
        "colab": {}
      },
      "cell_type": "code",
      "source": [
        "import findspark\n",
        "findspark.init()"
      ],
      "execution_count": 0,
      "outputs": []
    },
    {
      "metadata": {
        "id": "C6ZcqUKSPOKS",
        "colab_type": "code",
        "colab": {}
      },
      "cell_type": "code",
      "source": [
        "from pyspark.sql import SparkSession\n",
        "spark = SparkSession.builder.master(\"local[*]\").getOrCreate()"
      ],
      "execution_count": 0,
      "outputs": []
    },
    {
      "metadata": {
        "id": "9WjPiAACPvHC",
        "colab_type": "code",
        "colab": {}
      },
      "cell_type": "code",
      "source": [
        "sc=spark.sparkContext"
      ],
      "execution_count": 0,
      "outputs": []
    },
    {
      "metadata": {
        "id": "YxmTMcDBQhcM",
        "colab_type": "code",
        "colab": {}
      },
      "cell_type": "code",
      "source": [
        "rdd1 = sc.parallelize(range(5000)) #Range sirve como parametro para determinar un rango de números"
      ],
      "execution_count": 0,
      "outputs": []
    },
    {
      "metadata": {
        "id": "Y_dtq7h8Q-pQ",
        "colab_type": "code",
        "colab": {}
      },
      "cell_type": "code",
      "source": [
        "rdd2 = rdd1.map(lambda a:a+1)   #Ver los elementos de un conjunto de datos\n",
        "             #.take() sirve para tomar x elementos de una colección\n",
        "             #.map() recorre cada elemento"
      ],
      "execution_count": 0,
      "outputs": []
    },
    {
      "metadata": {
        "id": "Xb8exPufSaja",
        "colab_type": "code",
        "colab": {}
      },
      "cell_type": "code",
      "source": [
        "rdd2 = rdd1.filter(lambda s:s%2 == 0) #Filter regresa la coleccion filtrada. Lambda es una función anónima."
      ],
      "execution_count": 0,
      "outputs": []
    },
    {
      "metadata": {
        "id": "1OmxO_eHTLDR",
        "colab_type": "code",
        "outputId": "ec90e216-5783-4056-94d3-5073b31f0884",
        "colab": {
          "base_uri": "https://localhost:8080/",
          "height": 35
        }
      },
      "cell_type": "code",
      "source": [
        "rdd2.count() #cuenta el número de datos que tiene una colección"
      ],
      "execution_count": 0,
      "outputs": [
        {
          "output_type": "execute_result",
          "data": {
            "text/plain": [
              "2500"
            ]
          },
          "metadata": {
            "tags": []
          },
          "execution_count": 9
        }
      ]
    },
    {
      "metadata": {
        "id": "PAwODce9UG-V",
        "colab_type": "code",
        "colab": {}
      },
      "cell_type": "code",
      "source": [
        "from google.colab import drive\n",
        "drive.mount('/content/drive')"
      ],
      "execution_count": 0,
      "outputs": []
    },
    {
      "metadata": {
        "id": "rNGVdNYYVCIP",
        "colab_type": "code",
        "colab": {}
      },
      "cell_type": "code",
      "source": [
        "datos = sc.textFile('drive/My Drive/taller/El patito feo')"
      ],
      "execution_count": 0,
      "outputs": []
    },
    {
      "metadata": {
        "id": "8QciP1WBVJ9U",
        "colab_type": "code",
        "colab": {}
      },
      "cell_type": "code",
      "source": [
        "d=datos.map(lambda s:len(s.split(' ')))\n"
      ],
      "execution_count": 0,
      "outputs": []
    },
    {
      "metadata": {
        "id": "JC4dkUNbWudi",
        "colab_type": "code",
        "colab": {}
      },
      "cell_type": "code",
      "source": [
        "d2=datos.filter(lambda s:s!='')"
      ],
      "execution_count": 0,
      "outputs": []
    },
    {
      "metadata": {
        "id": "r4C2OHy3ZMD5",
        "colab_type": "code",
        "colab": {}
      },
      "cell_type": "code",
      "source": [
        "d=d2.map(lambda s:len(s.split(' ')))"
      ],
      "execution_count": 0,
      "outputs": []
    },
    {
      "metadata": {
        "id": "vo7GvaoxYKKd",
        "colab_type": "code",
        "outputId": "ee62b126-3056-494b-e0db-1c8f455b074f",
        "colab": {
          "base_uri": "https://localhost:8080/",
          "height": 35
        }
      },
      "cell_type": "code",
      "source": [
        "d.collect()"
      ],
      "execution_count": 0,
      "outputs": [
        {
          "output_type": "execute_result",
          "data": {
            "text/plain": [
              "[3, 55, 75, 78, 55, 77, 56, 81, 4, 60, 78, 38, 18, 10, 33, 30, 78]"
            ]
          },
          "metadata": {
            "tags": []
          },
          "execution_count": 47
        }
      ]
    },
    {
      "metadata": {
        "id": "yqpfhcmDah-K",
        "colab_type": "code",
        "colab": {}
      },
      "cell_type": "code",
      "source": [
        "p=datos.flatMap(lambda s:s.split(' '))"
      ],
      "execution_count": 0,
      "outputs": []
    },
    {
      "metadata": {
        "id": "RRAyKSWBcFJC",
        "colab_type": "code",
        "outputId": "bcc241bc-459e-4064-d20a-fab9b295fab8",
        "colab": {
          "base_uri": "https://localhost:8080/",
          "height": 35
        }
      },
      "cell_type": "code",
      "source": [
        "p.take(10)"
      ],
      "execution_count": 0,
      "outputs": [
        {
          "output_type": "execute_result",
          "data": {
            "text/plain": [
              "['El', 'patito', 'feo', '', 'Al', 'igual', 'que', 'todos', 'los', 'años,']"
            ]
          },
          "metadata": {
            "tags": []
          },
          "execution_count": 51
        }
      ]
    },
    {
      "metadata": {
        "id": "9TwdxvnEcSbN",
        "colab_type": "code",
        "outputId": "c4e62705-0556-4436-d081-9e29afdd08b1",
        "colab": {
          "base_uri": "https://localhost:8080/",
          "height": 35
        }
      },
      "cell_type": "code",
      "source": [
        "pt=p.map(lambda s:(s,1))\n",
        "pt.take(5)"
      ],
      "execution_count": 0,
      "outputs": [
        {
          "output_type": "execute_result",
          "data": {
            "text/plain": [
              "[('El', 1), ('patito', 1), ('feo', 1), ('', 1), ('Al', 1)]"
            ]
          },
          "metadata": {
            "tags": []
          },
          "execution_count": 52
        }
      ]
    },
    {
      "metadata": {
        "id": "POh_GTircsxF",
        "colab_type": "code",
        "colab": {}
      },
      "cell_type": "code",
      "source": [
        "res=pt.reduceByKey(lambda a,b:a+b)\n"
      ],
      "execution_count": 0,
      "outputs": []
    },
    {
      "metadata": {
        "id": "Zzo1afrvdTuh",
        "colab_type": "code",
        "outputId": "cc3928d0-8e6c-490c-ff2f-52b15eb8df62",
        "colab": {
          "base_uri": "https://localhost:8080/",
          "height": 7272
        }
      },
      "cell_type": "code",
      "source": [
        "rOrd=res.sortBy(lambda s:s[1],False)\n",
        "rOrd.collect()"
      ],
      "execution_count": 0,
      "outputs": [
        {
          "output_type": "execute_result",
          "data": {
            "text/plain": [
              "[('que', 46),\n",
              " ('de', 36),\n",
              " ('y', 26),\n",
              " ('el', 25),\n",
              " ('a', 20),\n",
              " ('se', 19),\n",
              " ('', 17),\n",
              " ('los', 15),\n",
              " ('en', 15),\n",
              " ('la', 15),\n",
              " ('lo', 14),\n",
              " ('por', 12),\n",
              " ('patito', 11),\n",
              " ('un', 10),\n",
              " ('era', 10),\n",
              " ('todos', 8),\n",
              " ('feo', 8),\n",
              " ('las', 8),\n",
              " ('más', 8),\n",
              " ('con', 7),\n",
              " ('había', 7),\n",
              " ('muy', 7),\n",
              " ('como', 6),\n",
              " ('no', 6),\n",
              " ('El', 6),\n",
              " ('para', 5),\n",
              " ('sus', 5),\n",
              " ('su', 5),\n",
              " ('él', 5),\n",
              " ('ese', 5),\n",
              " ('del', 4),\n",
              " ('eran', 4),\n",
              " ('ya', 4),\n",
              " ('estanque', 4),\n",
              " ('esta', 4),\n",
              " ('tuvo', 4),\n",
              " ('Señora', 3),\n",
              " ('resto', 3),\n",
              " ('patitos', 3),\n",
              " ('pues', 3),\n",
              " ('amigas', 3),\n",
              " ('le', 3),\n",
              " ('solo', 3),\n",
              " ('llegó', 3),\n",
              " ('cisnes', 3),\n",
              " ('tan', 3),\n",
              " ('ver', 3),\n",
              " ('grande', 3),\n",
              " ('Un', 3),\n",
              " ('día', 3),\n",
              " ('una', 3),\n",
              " ('–', 3),\n",
              " ('Pata', 2),\n",
              " ('dedicaba', 2),\n",
              " ('poder', 2),\n",
              " ('nido', 2),\n",
              " ('nadie', 2),\n",
              " ('salió', 2),\n",
              " ('este', 2),\n",
              " ('mucho', 2),\n",
              " ('burlas', 2),\n",
              " ('él.', 2),\n",
              " ('tiempo,', 2),\n",
              " ('pero', 2),\n",
              " ('torpe', 2),\n",
              " ('granja', 2),\n",
              " ('largo', 2),\n",
              " ('les', 2),\n",
              " ('Después', 2),\n",
              " ('anciana', 2),\n",
              " ('fin', 2),\n",
              " ('junto', 2),\n",
              " ('asombrado', 2),\n",
              " ('al', 2),\n",
              " ('siempre', 2),\n",
              " ('muchos', 2),\n",
              " ('cascarón', 2),\n",
              " ('pata', 2),\n",
              " ('bellos', 2),\n",
              " ('hacia', 2),\n",
              " ('A', 2),\n",
              " ('medida', 2),\n",
              " ('tanta', 2),\n",
              " ('aún', 2),\n",
              " ('Cuando', 2),\n",
              " ('fue', 2),\n",
              " ('situación', 2),\n",
              " ('feo.', 2),\n",
              " ('huyó', 2),\n",
              " ('donde', 2),\n",
              " ('tiempo', 2),\n",
              " ('busca', 2),\n",
              " ('aves', 2),\n",
              " ('pobre', 2),\n",
              " ('No', 2),\n",
              " ('aquel', 2),\n",
              " ('Al', 1),\n",
              " ('igual', 1),\n",
              " ('meses', 1),\n",
              " ('verano,', 1),\n",
              " ('empollar.', 1),\n",
              " ('deseos', 1),\n",
              " ('rompiesen', 1),\n",
              " ('verlos,', 1),\n",
              " ('momento', 1),\n",
              " ('causó', 1),\n",
              " ('gran', 1),\n",
              " ('todas', 1),\n",
              " ('mamá', 1),\n",
              " ('corrieron', 1),\n",
              " ('iban', 1),\n",
              " ('cascarón,', 1),\n",
              " ('tanto', 1),\n",
              " ('emoción', 1),\n",
              " ('unos', 1),\n",
              " ('esos.', 1),\n",
              " ('Era', 1),\n",
              " ('alrededor', 1),\n",
              " ('percatado', 1),\n",
              " ('huevo', 1),\n",
              " ('romperse.', 1),\n",
              " ('intacto', 1),\n",
              " ('puso', 1),\n",
              " ('expectativa', 1),\n",
              " ('presentes.', 1),\n",
              " ('rato', 1),\n",
              " ('poco,', 1),\n",
              " ('repente', 1),\n",
              " ('perplejos', 1),\n",
              " ('porque', 1),\n",
              " ('patitos,', 1),\n",
              " ('impresionó', 1),\n",
              " ('era.', 1),\n",
              " ('Esto', 1),\n",
              " ('ocurrido', 1),\n",
              " ('Pata,', 1),\n",
              " ('quien', 1),\n",
              " ('rechazo', 1),\n",
              " ('quería', 1),\n",
              " ('lugar.', 1),\n",
              " ('Toda', 1),\n",
              " ('hizo', 1),\n",
              " ('sintiera', 1),\n",
              " ('incluso', 1),\n",
              " ('hermanos', 1),\n",
              " ('pensaba', 1),\n",
              " ('así', 1),\n",
              " ('largo,', 1),\n",
              " ('Además', 1),\n",
              " ('iba', 1),\n",
              " ('convirtiendo', 1),\n",
              " ('centro', 1),\n",
              " ('cansó', 1),\n",
              " ('toda', 1),\n",
              " ('cerca', 1),\n",
              " ('propósito', 1),\n",
              " ('aspecto', 1),\n",
              " ('físico', 1),\n",
              " ('interesara', 1),\n",
              " ('caminar', 1),\n",
              " ('recogió', 1),\n",
              " ('En', 1),\n",
              " ('instante', 1),\n",
              " ('pensó', 1),\n",
              " ('problemas', 1),\n",
              " ('solucionado,', 1),\n",
              " ('peor.', 1),\n",
              " ('entrada', 1),\n",
              " ('usarlo', 1),\n",
              " ('cena', 1),\n",
              " ('vio', 1),\n",
              " ('atrás.', 1),\n",
              " ('Cuento:', 1),\n",
              " ('pobrecillo', 1),\n",
              " ('continuaba', 1),\n",
              " ('Fueron', 1),\n",
              " ('muchas', 1),\n",
              " ('dificultades', 1),\n",
              " ('invierno', 1),\n",
              " ('aprender', 1),\n",
              " ('buscar', 1),\n",
              " ('comida', 1),\n",
              " ('nieve', 1),\n",
              " ('refugiarse', 1),\n",
              " ('mismo,', 1),\n",
              " ('únicas', 1),\n",
              " ('provenientes', 1),\n",
              " ('armas', 1),\n",
              " ('cazadores.', 1),\n",
              " ('Siguió', 1),\n",
              " ('pasando', 1),\n",
              " ('hasta', 1),\n",
              " ('etapa', 1),\n",
              " ('pasaba', 1),\n",
              " ('cisnes.', 1),\n",
              " ('Estas', 1),\n",
              " ('tenían', 1),\n",
              " ('clase,', 1),\n",
              " ('elegantes', 1),\n",
              " ('abochornado', 1),\n",
              " ('llenó', 1),\n",
              " ('ellos', 1),\n",
              " ('si', 1),\n",
              " ('bañarse', 1),\n",
              " ('mucha', 1),\n",
              " ('respondieron', 1),\n",
              " ('va', 1),\n",
              " ('maravilloso', 1),\n",
              " ('estanque!', 1),\n",
              " ('respuesta', 1),\n",
              " ('apenado', 1),\n",
              " ('dijo:', 1),\n",
              " ('¡No', 1),\n",
              " ('rían', 1),\n",
              " ('Como', 1),\n",
              " ('llenos', 1),\n",
              " ('yo', 1),\n",
              " ('crueles', 1),\n",
              " ('burlándose', 1),\n",
              " ('modo.', 1),\n",
              " ('mírate', 1),\n",
              " ('veras', 1),\n",
              " ('decimos.-', 1),\n",
              " ('dijeron', 1),\n",
              " ('acercó', 1),\n",
              " ('ni', 1),\n",
              " ('creer,', 1),\n",
              " ('transformado', 1),\n",
              " ('hermoso', 1),\n",
              " ('cisne', 1),\n",
              " ('durante', 1),\n",
              " ('Ya', 1),\n",
              " ('dejado', 1),\n",
              " ('convertirse', 1),\n",
              " ('elegante', 1),\n",
              " ('nadaban', 1),\n",
              " ('estanque.', 1),\n",
              " ('años,', 1),\n",
              " ('patas', 1),\n",
              " ('corral', 1),\n",
              " ('esperaban', 1),\n",
              " ('distinguida', 1),\n",
              " ('alrededores.', 1),\n",
              " ('esperado', 1),\n",
              " ('llegó,', 1),\n",
              " ('alboroto', 1),\n",
              " ('tal', 1),\n",
              " ('acontecimiento.', 1),\n",
              " ('saliendo', 1),\n",
              " ('gritaban', 1),\n",
              " ('algarabía', 1),\n",
              " ('faltaba', 1),\n",
              " ('séptimo', 1),\n",
              " ('permanecía', 1),\n",
              " ('tarde', 1),\n",
              " ('empezó', 1),\n",
              " ('abría', 1),\n",
              " ('poco', 1),\n",
              " ('pato', 1),\n",
              " ('alegre.', 1),\n",
              " ('vieron', 1),\n",
              " ('quedaron', 1),\n",
              " ('larguirucho', 1),\n",
              " ('otros', 1),\n",
              " ('nunca', 1),\n",
              " ('evitar', 1),\n",
              " ('apartaba', 1),\n",
              " ('ala', 1),\n",
              " ('velar', 1),\n",
              " ('hermanitos.', 1),\n",
              " ('Tanto', 1),\n",
              " ('sufrió', 1),\n",
              " ('comenzó', 1),\n",
              " ('notar', 1),\n",
              " ('triste', 1),\n",
              " ('rechazado', 1),\n",
              " ('integrantes', 1),\n",
              " ('coral', 1),\n",
              " ('e', 1),\n",
              " ('propia', 1),\n",
              " ('madre', 1),\n",
              " ('indiferentes', 1),\n",
              " ('Él', 1),\n",
              " ('quizás', 1),\n",
              " ('problema', 1),\n",
              " ('requería', 1),\n",
              " ('pasaban', 1),\n",
              " ('días', 1),\n",
              " ('todos.', 1),\n",
              " ('agujero', 1),\n",
              " ('encontraba', 1),\n",
              " ('rodeaba', 1),\n",
              " ('propiedad.', 1),\n",
              " ('Comenzó', 1),\n",
              " ('camino', 1),\n",
              " ('encontrar', 1),\n",
              " ('amigos', 1),\n",
              " ('quisieran', 1),\n",
              " ('valores', 1),\n",
              " ('características.', 1),\n",
              " ('otra', 1),\n",
              " ('granja,', 1),\n",
              " ('entrada.', 1),\n",
              " ('habían', 1),\n",
              " ('imaginaba', 1),\n",
              " ('lugar', 1),\n",
              " ('sería', 1),\n",
              " ('La', 1),\n",
              " ('mujer', 1),\n",
              " ('mala', 1),\n",
              " ('único', 1),\n",
              " ('motivo', 1),\n",
              " ('recogerlo', 1),\n",
              " ('plato', 1),\n",
              " ('principal', 1),\n",
              " ('preparaba.', 1),\n",
              " ('eso', 1),\n",
              " ('corriendo', 1),\n",
              " ('sin', 1),\n",
              " ('mirar', 1),\n",
              " ('Pasaba', 1),\n",
              " ('hogar.', 1),\n",
              " ('pasar', 1),\n",
              " ('sí', 1),\n",
              " ('estas', 1),\n",
              " ('fueron', 1),\n",
              " ('esquivar', 1),\n",
              " ('disparos', 1),\n",
              " ('primavera', 1),\n",
              " ('bella', 1),\n",
              " ('encontró', 1),\n",
              " ('felicidad.', 1),\n",
              " ('mientras', 1),\n",
              " ('diviso', 1),\n",
              " ('dentro', 1),\n",
              " ('unas', 1),\n",
              " ('hermosas,', 1),\n",
              " ('esbeltas,', 1),\n",
              " ('desplazaban', 1),\n",
              " ('frescura', 1),\n",
              " ('distinción', 1),\n",
              " ('animalito', 1),\n",
              " ('sintió', 1),\n",
              " ('descuidado', 1),\n",
              " ('pesar', 1),\n",
              " ('diferencias', 1),\n",
              " ('notado,', 1),\n",
              " ('valor', 1),\n",
              " ('dirigió', 1),\n",
              " ('preguntándole', 1),\n",
              " ('educadamente', 1),\n",
              " ('podía', 1),\n",
              " ('ellos.', 1),\n",
              " ('Los', 1),\n",
              " ('amabilidad', 1),\n",
              " ('juntos:', 1),\n",
              " ('¡Claro', 1),\n",
              " ('puedes,', 1),\n",
              " ('uno', 1),\n",
              " ('nuestros', 1),\n",
              " ('disfrutar', 1),\n",
              " ('mí!', 1),\n",
              " ('me', 1),\n",
              " ('van', 1),\n",
              " ('comparar', 1),\n",
              " ('ustedes', 1),\n",
              " ('están', 1),\n",
              " ('belleza', 1),\n",
              " ('elegancia', 1),\n",
              " ('cuando', 1),\n",
              " ('soy', 1),\n",
              " ('torpe.', 1),\n",
              " ('sean', 1),\n",
              " ('nos', 1),\n",
              " ('estamos', 1),\n",
              " ('riendo', 1),\n",
              " ('ti,', 1),\n",
              " ('tu', 1),\n",
              " ('reflejo', 1),\n",
              " ('demostrara', 1),\n",
              " ('cuan', 1),\n",
              " ('real', 1),\n",
              " ('es', 1),\n",
              " ('patito.', 1),\n",
              " ('escuchar', 1),\n",
              " ('hermosas', 1),\n",
              " ('quedó', 1),\n",
              " ('mismo', 1),\n",
              " ('pudo', 1),\n",
              " ('¡Se', 1),\n",
              " ('todo', 1),\n",
              " ('pasó', 1),\n",
              " ('amigos!', 1),\n",
              " ('ser', 1),\n",
              " ('bello', 1)]"
            ]
          },
          "metadata": {
            "tags": []
          },
          "execution_count": 61
        }
      ]
    }
  ]
}